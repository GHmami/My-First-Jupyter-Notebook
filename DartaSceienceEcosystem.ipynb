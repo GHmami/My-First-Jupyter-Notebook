{
 "cells": [
  {
   "cell_type": "markdown",
   "id": "7aab698f-209f-4aca-b19b-2f3b3c7aae5a",
   "metadata": {
    "tags": []
   },
   "source": [
    "# Data Science Tools and Ecosystem"
   ]
  },
  {
   "cell_type": "markdown",
   "id": "37f8c31d-ec2d-4ef5-a2a1-044fe2b730c8",
   "metadata": {},
   "source": [
    "In this notebook, Data Science Tools and Ecosystem are summarized."
   ]
  },
  {
   "cell_type": "markdown",
   "id": "e75301a8-f556-4904-bee6-ff0225f5db3c",
   "metadata": {},
   "source": [
    "Objectives:\n",
    "* List popular languages for Data Science\n",
    "* List libraries used by Data Scientists \n",
    "* A table of Data Science tools \n",
    "* Arithmetic expression example "
   ]
  },
  {
   "cell_type": "markdown",
   "id": "f716dbf2-1975-4cfc-bada-33de00e238a8",
   "metadata": {},
   "source": [
    "Some of the popular languages that Data Scientists use are:\n",
    "1. Python\n",
    "2. R\n",
    "3. SQL"
   ]
  },
  {
   "cell_type": "markdown",
   "id": "aeb2236d-e879-4b9f-96f4-2144c587eb50",
   "metadata": {},
   "source": [
    "Some of commonly used libraries used by Data Scientists:\n",
    "1. Pandas\n",
    "2. Matplotlib\n",
    "3. Scikit-learn\n"
   ]
  },
  {
   "cell_type": "markdown",
   "id": "109342ea-550a-4a9b-b10a-54553ae73e25",
   "metadata": {},
   "source": [
    "|Data Science Tools|\n",
    "|------------------|\n",
    "|Jupyter|\n",
    "|Apache Zepplelin|\n",
    "|RStudio|"
   ]
  },
  {
   "cell_type": "markdown",
   "id": "450e4f2f-6285-450f-8918-cfd035ef1e73",
   "metadata": {},
   "source": [
    "### Below are a few example of evaluating arithmetic expressions in Python"
   ]
  },
  {
   "cell_type": "markdown",
   "id": "338a4608-2deb-40db-ba94-5a800f14e0a5",
   "metadata": {},
   "source": [
    "This is a simple arithmetic to mutiply then add integers"
   ]
  },
  {
   "cell_type": "code",
   "execution_count": 1,
   "id": "360c3a9e-6ec9-48d3-8cec-bb9c081b891e",
   "metadata": {
    "tags": []
   },
   "outputs": [
    {
     "data": {
      "text/plain": [
       "17"
      ]
     },
     "execution_count": 1,
     "metadata": {},
     "output_type": "execute_result"
    }
   ],
   "source": [
    "(3*4)+5"
   ]
  },
  {
   "cell_type": "markdown",
   "id": "141475dc-8372-40c0-ade9-8760ba0aafa1",
   "metadata": {},
   "source": [
    "This will convert 200 minutes to hours by diving by 60"
   ]
  },
  {
   "cell_type": "code",
   "execution_count": 3,
   "id": "93af9b63-76dd-4ecb-aa76-a2b8ff59f0d9",
   "metadata": {
    "tags": []
   },
   "outputs": [
    {
     "data": {
      "text/plain": [
       "3.3333333333333335"
      ]
     },
     "execution_count": 3,
     "metadata": {},
     "output_type": "execute_result"
    }
   ],
   "source": [
    "200/60"
   ]
  },
  {
   "cell_type": "markdown",
   "id": "ecfe766d-9d1d-4cd1-bcda-2ae047c1cfa0",
   "metadata": {},
   "source": [
    "## Author\n",
    "Mami Seki\n"
   ]
  },
  {
   "cell_type": "code",
   "execution_count": null,
   "id": "6e599034-3f68-429d-aa24-2f8b09c5a4f8",
   "metadata": {},
   "outputs": [],
   "source": []
  }
 ],
 "metadata": {
  "kernelspec": {
   "display_name": "Python",
   "language": "python",
   "name": "conda-env-python-py"
  },
  "language_info": {
   "codemirror_mode": {
    "name": "ipython",
    "version": 3
   },
   "file_extension": ".py",
   "mimetype": "text/x-python",
   "name": "python",
   "nbconvert_exporter": "python",
   "pygments_lexer": "ipython3",
   "version": "3.7.12"
  }
 },
 "nbformat": 4,
 "nbformat_minor": 5
}
